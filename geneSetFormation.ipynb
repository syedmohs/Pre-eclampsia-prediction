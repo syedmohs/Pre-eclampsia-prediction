{
 "cells": [
  {
   "cell_type": "code",
   "execution_count": null,
   "id": "770eac56",
   "metadata": {},
   "outputs": [],
   "source": [
    "import gzip\n",
    "import pandas as pd\n",
    "from functools import reduce"
   ]
  },
  {
   "cell_type": "code",
   "execution_count": null,
   "id": "2eae92d4",
   "metadata": {},
   "outputs": [],
   "source": [
    "# Loading and process the annotation file to map gene IDs to gene symbols\n",
    "annotation_file = 'Human.GRCh38.p13.annot.tsv.gz'\n",
    "\n",
    "with gzip.open(annotation_file, 'rt') as f:\n",
    "    annotations = pd.read_csv(f, sep='\\t')\n",
    "\n",
    "# Ensuring gene IDs are strings and strip whitespace\n",
    "annotations['GeneID'] = annotations['GeneID'].astype(str).str.strip()\n",
    "annotations['Symbol'] = annotations['Symbol'].str.strip()\n",
    "\n",
    "# Creating a dictionary for gene ID to symbol mapping\n",
    "id_to_symbol = dict(zip(annotations['GeneID'], annotations['Symbol']))\n",
    "\n",
    "# List of GSE dataset file paths\n",
    "gse_files = [\"GSE114691_DEG.csv\", \"GSE148241_DEG.csv\", \"GSE190971_DEG.csv\", \"GSE234729_DEG.csv\"]  # Add your file paths here\n",
    "\n",
    "# List to store the gene symbols for each dataset\n",
    "gene_symbol_lists = []\n",
    "\n",
    "for gse_file in gse_files:\n",
    "    # Loading the dataset\n",
    "    df = pd.read_csv(gse_file)\n",
    "    \n",
    "    # Setting the first column as the index and remove its name\n",
    "    df.set_index(df.columns[0], inplace=True, drop=True)\n",
    "    df.index.name = None\n",
    "\n",
    "    # Mapping gene IDs to symbols in the columns, keeping original IDs if no match is found\n",
    "    df.columns = [id_to_symbol.get(gene, gene) for gene in df.columns]\n",
    "    \n",
    "    # Adding unique gene symbols from this dataset to the list\n",
    "    gene_symbol_lists.append(set(df.columns))\n",
    "\n",
    "# Finding the union of gene symbols across all datasets\n",
    "common_genes = reduce(lambda x, y: x | y, gene_symbol_lists)\n",
    "\n",
    "# Saving the common genes to a CSV file\n",
    "common_genes_df = pd.DataFrame(list(common_genes), columns=['CommonGenes'])\n",
    "common_genes_df.to_csv(\"common_DEGs.csv\", index=False)\n",
    "\n",
    "print(\"Common genes saved to 'common_genes.csv'\")"
   ]
  },
  {
   "cell_type": "markdown",
   "id": "0d7dedbc",
   "metadata": {},
   "source": [
    "### union from feature selection"
   ]
  },
  {
   "cell_type": "code",
   "execution_count": null,
   "id": "d8bf94bb",
   "metadata": {},
   "outputs": [],
   "source": [
    "# Paths to the CSV files containing the top features\n",
    "file_paths = [\n",
    "    \"GSE114691_top50_list.csv\",\n",
    "    \"GSE148241_top40_list.csv\",\n",
    "    \"GSE190971_top40_list.csv\",\n",
    "    \"GSE234729_top50_list.csv\"\n",
    "]\n",
    "\n",
    "# Loading each file and get the feature list as a set\n",
    "feature_sets = [set(pd.read_csv(file)[\"feature\"].tolist()) for file in file_paths]\n",
    "\n",
    "# Finding the union of features across all sets\n",
    "union_features = set.union(*feature_sets)\n",
    "\n",
    "# Converting to a list and save to a CSV\n",
    "union_features_list = list(union_features)\n",
    "union_features_df = pd.DataFrame(union_features_list, columns=[\"feature\"])\n",
    "union_features_df.to_csv(\"union_features.csv\", index=False)\n",
    "\n",
    "# Printing results\n",
    "print(\"Union of features saved to union_features.csv\")\n",
    "print(\"Number of unique features:\", len(union_features_list))\n",
    "print(\"Union of features:\", union_features_list)"
   ]
  },
  {
   "cell_type": "markdown",
   "id": "e1fab31c",
   "metadata": {},
   "source": [
    "### common among DEGs and feature selection genes"
   ]
  },
  {
   "cell_type": "code",
   "execution_count": null,
   "id": "d3bc1105",
   "metadata": {},
   "outputs": [],
   "source": [
    "# Loading the union features from the previous CSV\n",
    "union_features_df = pd.read_csv(\"union_features.csv\")\n",
    "union_features_set = set(union_features_df[\"feature\"].tolist())\n",
    "\n",
    "# Loading the DataFrame with the CommonGenes column\n",
    "common_genes_df = pd.read_csv(\"common_DEGs.csv\")  # Replace with your file path\n",
    "common_genes_set = set(common_genes_df[\"CommonGenes\"].tolist())\n",
    "\n",
    "# Finding the intersection of the two sets\n",
    "intersection_features = union_features_set.intersection(common_genes_set)\n",
    "\n",
    "# Converting the intersection to a DataFrame and save to CSV\n",
    "intersection_features_list = list(intersection_features)\n",
    "intersection_features_df = pd.DataFrame(intersection_features_list, columns=[\"Common Genes\"])\n",
    "intersection_features_df.to_csv(\"intersection_features.csv\", index=False)\n",
    "\n",
    "# Printing results\n",
    "print(\"Intersection of features saved to intersection_features.csv\")\n",
    "print(\"Number of common genes:\", len(intersection_features_list))\n",
    "print(\"Common genes:\", intersection_features_list)"
   ]
  },
  {
   "cell_type": "markdown",
   "id": "a0c0476d",
   "metadata": {},
   "source": [
    "### Feature ranking"
   ]
  },
  {
   "cell_type": "code",
   "execution_count": null,
   "id": "0a5e0545",
   "metadata": {},
   "outputs": [],
   "source": [
    "# Paths to the CSV files containing the top features\n",
    "file_paths = [\n",
    "    \"GSE114691_feature_importance_ranking.csv\",\n",
    "    \"GSE148241_feature_importance_ranking.csv\",\n",
    "    \"GSE190971_feature_importance_ranking.csv\",\n",
    "    \"GSE234729_feature_importance_ranking.csv\"\n",
    "]\n",
    "\n",
    "# Loading each file and get the feature list as a set\n",
    "feature_sets = [set(pd.read_csv(file)[\"feature\"].tolist()) for file in file_paths]\n",
    "\n",
    "# Finding the union of features across all sets\n",
    "union_features = set.union(*feature_sets)\n",
    "\n",
    "# Converting to a list and save to a CSV\n",
    "union_features_list = list(union_features)\n",
    "union_features_df = pd.DataFrame(union_features_list, columns=[\"feature\"])\n",
    "union_features_df.to_csv(\"combined_genes_afterRF.csv\", index=False)\n",
    "\n",
    "# Printing results\n",
    "print(\"Union of features saved to combined_genes_afterRF.csv\")\n",
    "print(\"Number of unique features:\", len(union_features_list))\n",
    "print(\"Union of features:\", union_features_list)"
   ]
  }
 ],
 "metadata": {
  "kernelspec": {
   "display_name": "Python (new_env)",
   "language": "python",
   "name": "new_env"
  },
  "language_info": {
   "codemirror_mode": {
    "name": "ipython",
    "version": 3
   },
   "file_extension": ".py",
   "mimetype": "text/x-python",
   "name": "python",
   "nbconvert_exporter": "python",
   "pygments_lexer": "ipython3",
   "version": "3.10.15"
  }
 },
 "nbformat": 4,
 "nbformat_minor": 5
}
